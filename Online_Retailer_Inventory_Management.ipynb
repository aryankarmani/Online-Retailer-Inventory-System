{
  "nbformat": 4,
  "nbformat_minor": 0,
  "metadata": {
    "colab": {
      "provenance": []
    },
    "kernelspec": {
      "name": "python3",
      "display_name": "Python 3"
    },
    "language_info": {
      "name": "python"
    }
  },
  "cells": [
    {
      "cell_type": "code",
      "execution_count": 8,
      "metadata": {
        "colab": {
          "base_uri": "https://localhost:8080/",
          "height": 0
        },
        "id": "ejYiqZEHL4Xw",
        "outputId": "169f8f26-0fdc-42eb-ed1f-3f6d0d289a8b"
      },
      "outputs": [
        {
          "output_type": "stream",
          "name": "stdout",
          "text": [
            "Stock level: 44, Sold 6 units at 1\n",
            "Stock level: 40, Sold 4 units at 2\n",
            "Stock level: 35, Sold 5 units at 3\n",
            "Stock level: 31, Sold 4 units at 4\n",
            "Stock level: 25, Sold 6 units at 5\n",
            "Stock level: 25, Reordering 50 units at 5\n",
            "Stock level: 75, Order received at 7\n",
            "Stock level: 74, Sold 1 units at 8\n",
            "Stock level: 68, Sold 6 units at 9\n",
            "Stock level: 58, Sold 10 units at 10\n",
            "Stock level: 50, Sold 8 units at 11\n",
            "Stock level: 48, Sold 2 units at 12\n",
            "Stock level: 44, Sold 4 units at 13\n",
            "Stock level: 39, Sold 5 units at 14\n",
            "Stock level: 29, Sold 10 units at 15\n",
            "Stock level: 28, Sold 1 units at 16\n",
            "Stock level: 19, Sold 9 units at 17\n",
            "Stock level: 19, Reordering 50 units at 17\n",
            "Stock level: 69, Order received at 19\n",
            "Stock level: 63, Sold 6 units at 20\n",
            "Stock level: 58, Sold 5 units at 21\n",
            "Stock level: 54, Sold 4 units at 22\n",
            "Stock level: 52, Sold 2 units at 23\n",
            "Stock level: 47, Sold 5 units at 24\n",
            "Stock level: 44, Sold 3 units at 25\n",
            "Stock level: 35, Sold 9 units at 26\n",
            "Stock level: 27, Sold 8 units at 27\n",
            "Stock level: 22, Sold 5 units at 28\n",
            "Stock level: 22, Reordering 50 units at 28\n",
            "Stock level: 72, Order received at 30\n",
            "Stock level: 68, Sold 4 units at 31\n",
            "Stock level: 62, Sold 6 units at 32\n",
            "Stock level: 60, Sold 2 units at 33\n",
            "Stock level: 58, Sold 2 units at 34\n",
            "Stock level: 57, Sold 1 units at 35\n",
            "Stock level: 55, Sold 2 units at 36\n",
            "Stock level: 48, Sold 7 units at 37\n",
            "Stock level: 44, Sold 4 units at 38\n",
            "Stock level: 39, Sold 5 units at 39\n",
            "Stock level: 32, Sold 7 units at 40\n",
            "Stock level: 30, Sold 2 units at 41\n",
            "Stock level: 22, Sold 8 units at 42\n",
            "Stock level: 22, Reordering 50 units at 42\n",
            "Stock level: 72, Order received at 44\n",
            "Stock level: 65, Sold 7 units at 45\n",
            "Stock level: 57, Sold 8 units at 46\n",
            "Stock level: 48, Sold 9 units at 47\n",
            "Stock level: 39, Sold 9 units at 48\n",
            "Stock level: 34, Sold 5 units at 49\n"
          ]
        }
      ],
      "source": [
        "# Online Retailer Inventory Management code\n",
        "import simpy\n",
        "import random\n",
        "\n",
        "class Retailer:\n",
        "    def __init__(self, env, stock):\n",
        "        self.env = env\n",
        "        self.stock = stock\n",
        "        self.reorder_point = int(stock/2)\n",
        "        self.reorder_quantity = stock\n",
        "        self.action = env.process(self.run())\n",
        "\n",
        "    def run(self):\n",
        "        while True:\n",
        "            if self.stock <= self.reorder_point:\n",
        "                # reorder stock\n",
        "                yield self.env.process(self.reorder())\n",
        "            else:\n",
        "                # sell stock\n",
        "                yield self.env.process(self.sell())\n",
        "            \n",
        "    def reorder(self):\n",
        "        print(f\"Stock level: {self.stock}, Reordering {self.reorder_quantity} units at {self.env.now}\")\n",
        "        yield self.env.timeout(2)\n",
        "        self.stock += self.reorder_quantity\n",
        "        print(f\"Stock level: {self.stock}, Order received at {self.env.now}\")\n",
        "    \n",
        "    def sell(self):\n",
        "        sale_quantity = random.randint(1, 10)\n",
        "        if sale_quantity <= self.stock:\n",
        "            yield self.env.timeout(1)\n",
        "            self.stock -= sale_quantity\n",
        "            print(f\"Stock level: {self.stock}, Sold {sale_quantity} units at {self.env.now}\")\n",
        "        else:\n",
        "            print(f\"Stock level: {self.stock}, Not enough stock to fulfil sale at {self.env.now}\")\n",
        "            yield self.env.timeout(1)\n",
        "\n",
        "# set up environment\n",
        "env = simpy.Environment()\n",
        "\n",
        "# create retailer\n",
        "retailer = Retailer(env, 50)\n",
        "\n",
        "# run simulation\n",
        "env.run(until=50)\n",
        "\n"
      ]
    }
  ]
}